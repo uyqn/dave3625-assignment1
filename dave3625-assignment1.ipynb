{
 "cells": [
  {
   "cell_type": "markdown",
   "id": "5ed094c9",
   "metadata": {},
   "source": [
    "# DAVE3625 Assignment 1\n",
    "This assignment is solved by Uy Quoc Nguyen (s341864) and Anders Hagen Ottersland (s341883).\n",
    "\n",
    "## Task 1: Feature Engineering You will be given a data set (from Ruter). Please do the following on this data set:\n",
    "\n",
    "We will approach this task by doing all the subtasks intertwined. That is, as soon as a feature has been identified we will apply feature engineering on that feature.\n",
    "\n",
    "First we import pandas to create a dataframe of [Ruter_data.csv](https://raw.githubusercontent.com/umaimehm/Intro_to_AI_2021/main/assignment1/Ruter_data.csv) and matplotlib to display charts\n"
   ]
  },
  {
   "cell_type": "code",
   "execution_count": 1,
   "id": "47ef87da",
   "metadata": {},
   "outputs": [],
   "source": [
    "%matplotlib inline\n",
    "import pandas as pd\n",
    "import matplotlib.pyplot as plt\n",
    "import datetime as dt\n",
    "import numpy as np"
   ]
  },
  {
   "cell_type": "markdown",
   "id": "ce836e54",
   "metadata": {},
   "source": [
    "We create a data frame from [Ruter_data.csv](https://raw.githubusercontent.com/umaimehm/Intro_to_AI_2021/main/assignment1/Ruter_data.csv)"
   ]
  },
  {
   "cell_type": "code",
   "execution_count": 2,
   "id": "feec6625",
   "metadata": {},
   "outputs": [
    {
     "data": {
      "text/html": [
       "<div>\n",
       "<style scoped>\n",
       "    .dataframe tbody tr th:only-of-type {\n",
       "        vertical-align: middle;\n",
       "    }\n",
       "\n",
       "    .dataframe tbody tr th {\n",
       "        vertical-align: top;\n",
       "    }\n",
       "\n",
       "    .dataframe thead th {\n",
       "        text-align: right;\n",
       "    }\n",
       "</style>\n",
       "<table border=\"1\" class=\"dataframe\">\n",
       "  <thead>\n",
       "    <tr style=\"text-align: right;\">\n",
       "      <th></th>\n",
       "      <th>TurId</th>\n",
       "      <th>Dato</th>\n",
       "      <th>Fylke</th>\n",
       "      <th>Område</th>\n",
       "      <th>Kommune</th>\n",
       "      <th>Holdeplass_Fra</th>\n",
       "      <th>Holdeplass_Til</th>\n",
       "      <th>Linjetype</th>\n",
       "      <th>Linjefylke</th>\n",
       "      <th>Linjenavn</th>\n",
       "      <th>Linjeretning</th>\n",
       "      <th>Tidspunkt_Faktisk_Ankomst_Holdeplass_Fra</th>\n",
       "      <th>Tidspunkt_Faktisk_Avgang_Holdeplass_Fra</th>\n",
       "      <th>Tidspunkt_Planlagt_Ankomst_Holdeplass_Fra</th>\n",
       "      <th>Tidspunkt_Planlagt_Avgang_Holdeplass_Fra</th>\n",
       "      <th>Kjøretøy_Kapasitet</th>\n",
       "      <th>Passasjerer_Ombord</th>\n",
       "    </tr>\n",
       "  </thead>\n",
       "  <tbody>\n",
       "    <tr>\n",
       "      <th>0</th>\n",
       "      <td>15006-2020-08-10T10:24:00+02:00</td>\n",
       "      <td>10/08/2020</td>\n",
       "      <td>Viken</td>\n",
       "      <td>Vest</td>\n",
       "      <td>Bærum</td>\n",
       "      <td>Nordliveien</td>\n",
       "      <td>Tjernsmyr</td>\n",
       "      <td>Lokal</td>\n",
       "      <td>Viken</td>\n",
       "      <td>150</td>\n",
       "      <td>0</td>\n",
       "      <td>10:53:53</td>\n",
       "      <td>10:53:59</td>\n",
       "      <td>10:53:00</td>\n",
       "      <td>10:53:00</td>\n",
       "      <td>112</td>\n",
       "      <td>5</td>\n",
       "    </tr>\n",
       "    <tr>\n",
       "      <th>1</th>\n",
       "      <td>15002-2020-08-15T12:54:00+02:00</td>\n",
       "      <td>15/08/2020</td>\n",
       "      <td>Viken</td>\n",
       "      <td>Vest</td>\n",
       "      <td>Bærum</td>\n",
       "      <td>Nadderud stadion</td>\n",
       "      <td>Bekkestua bussterminal (Plattform C)</td>\n",
       "      <td>Lokal</td>\n",
       "      <td>Viken</td>\n",
       "      <td>150</td>\n",
       "      <td>0</td>\n",
       "      <td>13:12:20</td>\n",
       "      <td>13:12:26</td>\n",
       "      <td>13:12:00</td>\n",
       "      <td>13:12:00</td>\n",
       "      <td>112</td>\n",
       "      <td>5</td>\n",
       "    </tr>\n",
       "    <tr>\n",
       "      <th>2</th>\n",
       "      <td>15004-2020-08-03T09:54:00+02:00</td>\n",
       "      <td>03/08/2020</td>\n",
       "      <td>Viken</td>\n",
       "      <td>Vest</td>\n",
       "      <td>Bærum</td>\n",
       "      <td>Ringstabekkveien</td>\n",
       "      <td>Skallum</td>\n",
       "      <td>Lokal</td>\n",
       "      <td>Viken</td>\n",
       "      <td>150</td>\n",
       "      <td>0</td>\n",
       "      <td>10:18:56</td>\n",
       "      <td>10:19:21</td>\n",
       "      <td>10:19:00</td>\n",
       "      <td>10:19:00</td>\n",
       "      <td>112</td>\n",
       "      <td>6</td>\n",
       "    </tr>\n",
       "    <tr>\n",
       "      <th>3</th>\n",
       "      <td>15003-2020-07-27T13:00:00+02:00</td>\n",
       "      <td>27/07/2020</td>\n",
       "      <td>Viken</td>\n",
       "      <td>Vest</td>\n",
       "      <td>Bærum</td>\n",
       "      <td>Gruvemyra</td>\n",
       "      <td>Gullhaug</td>\n",
       "      <td>Lokal</td>\n",
       "      <td>Viken</td>\n",
       "      <td>150</td>\n",
       "      <td>1</td>\n",
       "      <td>13:52:04</td>\n",
       "      <td>13:52:26</td>\n",
       "      <td>13:51:00</td>\n",
       "      <td>13:51:00</td>\n",
       "      <td>112</td>\n",
       "      <td>10</td>\n",
       "    </tr>\n",
       "    <tr>\n",
       "      <th>4</th>\n",
       "      <td>15002-2020-08-27T07:15:00+02:00</td>\n",
       "      <td>27/08/2020</td>\n",
       "      <td>Viken</td>\n",
       "      <td>Vest</td>\n",
       "      <td>Bærum</td>\n",
       "      <td>Lysaker stasjon (Plattform A)</td>\n",
       "      <td>Tjernsmyr</td>\n",
       "      <td>Lokal</td>\n",
       "      <td>Viken</td>\n",
       "      <td>150</td>\n",
       "      <td>1</td>\n",
       "      <td>07:34:13</td>\n",
       "      <td>07:34:53</td>\n",
       "      <td>07:33:00</td>\n",
       "      <td>07:33:00</td>\n",
       "      <td>112</td>\n",
       "      <td>10</td>\n",
       "    </tr>\n",
       "    <tr>\n",
       "      <th>...</th>\n",
       "      <td>...</td>\n",
       "      <td>...</td>\n",
       "      <td>...</td>\n",
       "      <td>...</td>\n",
       "      <td>...</td>\n",
       "      <td>...</td>\n",
       "      <td>...</td>\n",
       "      <td>...</td>\n",
       "      <td>...</td>\n",
       "      <td>...</td>\n",
       "      <td>...</td>\n",
       "      <td>...</td>\n",
       "      <td>...</td>\n",
       "      <td>...</td>\n",
       "      <td>...</td>\n",
       "      <td>...</td>\n",
       "      <td>...</td>\n",
       "    </tr>\n",
       "    <tr>\n",
       "      <th>5995</th>\n",
       "      <td>10001-2020-06-10T15:10:00+02:00</td>\n",
       "      <td>10/06/2020</td>\n",
       "      <td>Viken</td>\n",
       "      <td>Nordøst</td>\n",
       "      <td>Lillestrøm</td>\n",
       "      <td>Brauterkrysset</td>\n",
       "      <td>Nordsnoveien</td>\n",
       "      <td>Lokal</td>\n",
       "      <td>Viken</td>\n",
       "      <td>100</td>\n",
       "      <td>1</td>\n",
       "      <td>16:23:18</td>\n",
       "      <td>16:23:48</td>\n",
       "      <td>16:10:00</td>\n",
       "      <td>16:10:00</td>\n",
       "      <td>151</td>\n",
       "      <td>2</td>\n",
       "    </tr>\n",
       "    <tr>\n",
       "      <th>5996</th>\n",
       "      <td>10010-2020-06-23T05:54:00+02:00</td>\n",
       "      <td>23/06/2020</td>\n",
       "      <td>Viken</td>\n",
       "      <td>Nordøst</td>\n",
       "      <td>Lillestrøm</td>\n",
       "      <td>Vestbygata</td>\n",
       "      <td>Bjørnsons gate</td>\n",
       "      <td>Lokal</td>\n",
       "      <td>Viken</td>\n",
       "      <td>100</td>\n",
       "      <td>0</td>\n",
       "      <td>06:00:32</td>\n",
       "      <td>06:00:40</td>\n",
       "      <td>05:59:00</td>\n",
       "      <td>05:59:00</td>\n",
       "      <td>151</td>\n",
       "      <td>2</td>\n",
       "    </tr>\n",
       "    <tr>\n",
       "      <th>5997</th>\n",
       "      <td>2007-2020-06-11T17:22:00+02:00</td>\n",
       "      <td>11/06/2020</td>\n",
       "      <td>Oslo</td>\n",
       "      <td>Indre By</td>\n",
       "      <td>Sagene</td>\n",
       "      <td>Torshovparken  (mot Torshovparken)</td>\n",
       "      <td>Torshov  (mot Bentsebrua)</td>\n",
       "      <td>Lokal</td>\n",
       "      <td>Oslo</td>\n",
       "      <td>20</td>\n",
       "      <td>1</td>\n",
       "      <td>17:42:43</td>\n",
       "      <td>17:43:10</td>\n",
       "      <td>17:32:00</td>\n",
       "      <td>17:32:00</td>\n",
       "      <td>106</td>\n",
       "      <td>3</td>\n",
       "    </tr>\n",
       "    <tr>\n",
       "      <th>5998</th>\n",
       "      <td>10004-2020-08-13T04:59:00+02:00</td>\n",
       "      <td>13/08/2020</td>\n",
       "      <td>Oslo</td>\n",
       "      <td>Indre By</td>\n",
       "      <td>Gamle Oslo</td>\n",
       "      <td>Harald Hårdrådes plass  (mot Grønland)</td>\n",
       "      <td>Oslo gate  (mot Grønland)</td>\n",
       "      <td>Lokal</td>\n",
       "      <td>Viken</td>\n",
       "      <td>100</td>\n",
       "      <td>0</td>\n",
       "      <td>06:00:11</td>\n",
       "      <td>06:00:23</td>\n",
       "      <td>05:59:00</td>\n",
       "      <td>05:59:00</td>\n",
       "      <td>151</td>\n",
       "      <td>5</td>\n",
       "    </tr>\n",
       "    <tr>\n",
       "      <th>5999</th>\n",
       "      <td>34013-2020-08-05T13:31:00+02:00</td>\n",
       "      <td>05/08/2020</td>\n",
       "      <td>Viken</td>\n",
       "      <td>Nordøst</td>\n",
       "      <td>Lillestrøm</td>\n",
       "      <td>Tandberg</td>\n",
       "      <td>Selmer</td>\n",
       "      <td>Lokal</td>\n",
       "      <td>Viken</td>\n",
       "      <td>340</td>\n",
       "      <td>1</td>\n",
       "      <td>13:52:44</td>\n",
       "      <td>13:52:48</td>\n",
       "      <td>13:50:00</td>\n",
       "      <td>13:50:00</td>\n",
       "      <td>105</td>\n",
       "      <td>-5</td>\n",
       "    </tr>\n",
       "  </tbody>\n",
       "</table>\n",
       "<p>6000 rows × 17 columns</p>\n",
       "</div>"
      ],
      "text/plain": [
       "                                TurId        Dato  Fylke    Område  \\\n",
       "0     15006-2020-08-10T10:24:00+02:00  10/08/2020  Viken      Vest   \n",
       "1     15002-2020-08-15T12:54:00+02:00  15/08/2020  Viken      Vest   \n",
       "2     15004-2020-08-03T09:54:00+02:00  03/08/2020  Viken      Vest   \n",
       "3     15003-2020-07-27T13:00:00+02:00  27/07/2020  Viken      Vest   \n",
       "4     15002-2020-08-27T07:15:00+02:00  27/08/2020  Viken      Vest   \n",
       "...                               ...         ...    ...       ...   \n",
       "5995  10001-2020-06-10T15:10:00+02:00  10/06/2020  Viken   Nordøst   \n",
       "5996  10010-2020-06-23T05:54:00+02:00  23/06/2020  Viken   Nordøst   \n",
       "5997   2007-2020-06-11T17:22:00+02:00  11/06/2020   Oslo  Indre By   \n",
       "5998  10004-2020-08-13T04:59:00+02:00  13/08/2020   Oslo  Indre By   \n",
       "5999  34013-2020-08-05T13:31:00+02:00  05/08/2020  Viken   Nordøst   \n",
       "\n",
       "         Kommune                          Holdeplass_Fra  \\\n",
       "0          Bærum                             Nordliveien   \n",
       "1          Bærum                        Nadderud stadion   \n",
       "2          Bærum                        Ringstabekkveien   \n",
       "3          Bærum                               Gruvemyra   \n",
       "4          Bærum           Lysaker stasjon (Plattform A)   \n",
       "...          ...                                     ...   \n",
       "5995  Lillestrøm                          Brauterkrysset   \n",
       "5996  Lillestrøm                              Vestbygata   \n",
       "5997      Sagene      Torshovparken  (mot Torshovparken)   \n",
       "5998  Gamle Oslo  Harald Hårdrådes plass  (mot Grønland)   \n",
       "5999  Lillestrøm                                Tandberg   \n",
       "\n",
       "                            Holdeplass_Til Linjetype Linjefylke Linjenavn  \\\n",
       "0                                Tjernsmyr     Lokal      Viken       150   \n",
       "1     Bekkestua bussterminal (Plattform C)     Lokal      Viken       150   \n",
       "2                                  Skallum     Lokal      Viken       150   \n",
       "3                                 Gullhaug     Lokal      Viken       150   \n",
       "4                                Tjernsmyr     Lokal      Viken       150   \n",
       "...                                    ...       ...        ...       ...   \n",
       "5995                          Nordsnoveien     Lokal      Viken       100   \n",
       "5996                        Bjørnsons gate     Lokal      Viken       100   \n",
       "5997             Torshov  (mot Bentsebrua)     Lokal       Oslo        20   \n",
       "5998             Oslo gate  (mot Grønland)     Lokal      Viken       100   \n",
       "5999                                Selmer     Lokal      Viken       340   \n",
       "\n",
       "      Linjeretning Tidspunkt_Faktisk_Ankomst_Holdeplass_Fra  \\\n",
       "0                0                                 10:53:53   \n",
       "1                0                                 13:12:20   \n",
       "2                0                                 10:18:56   \n",
       "3                1                                 13:52:04   \n",
       "4                1                                 07:34:13   \n",
       "...            ...                                      ...   \n",
       "5995             1                                 16:23:18   \n",
       "5996             0                                 06:00:32   \n",
       "5997             1                                 17:42:43   \n",
       "5998             0                                 06:00:11   \n",
       "5999             1                                 13:52:44   \n",
       "\n",
       "     Tidspunkt_Faktisk_Avgang_Holdeplass_Fra  \\\n",
       "0                                   10:53:59   \n",
       "1                                   13:12:26   \n",
       "2                                   10:19:21   \n",
       "3                                   13:52:26   \n",
       "4                                   07:34:53   \n",
       "...                                      ...   \n",
       "5995                                16:23:48   \n",
       "5996                                06:00:40   \n",
       "5997                                17:43:10   \n",
       "5998                                06:00:23   \n",
       "5999                                13:52:48   \n",
       "\n",
       "     Tidspunkt_Planlagt_Ankomst_Holdeplass_Fra  \\\n",
       "0                                     10:53:00   \n",
       "1                                     13:12:00   \n",
       "2                                     10:19:00   \n",
       "3                                     13:51:00   \n",
       "4                                     07:33:00   \n",
       "...                                        ...   \n",
       "5995                                  16:10:00   \n",
       "5996                                  05:59:00   \n",
       "5997                                  17:32:00   \n",
       "5998                                  05:59:00   \n",
       "5999                                  13:50:00   \n",
       "\n",
       "     Tidspunkt_Planlagt_Avgang_Holdeplass_Fra  Kjøretøy_Kapasitet  \\\n",
       "0                                    10:53:00                 112   \n",
       "1                                    13:12:00                 112   \n",
       "2                                    10:19:00                 112   \n",
       "3                                    13:51:00                 112   \n",
       "4                                    07:33:00                 112   \n",
       "...                                       ...                 ...   \n",
       "5995                                 16:10:00                 151   \n",
       "5996                                 05:59:00                 151   \n",
       "5997                                 17:32:00                 106   \n",
       "5998                                 05:59:00                 151   \n",
       "5999                                 13:50:00                 105   \n",
       "\n",
       "      Passasjerer_Ombord  \n",
       "0                      5  \n",
       "1                      5  \n",
       "2                      6  \n",
       "3                     10  \n",
       "4                     10  \n",
       "...                  ...  \n",
       "5995                   2  \n",
       "5996                   2  \n",
       "5997                   3  \n",
       "5998                   5  \n",
       "5999                  -5  \n",
       "\n",
       "[6000 rows x 17 columns]"
      ]
     },
     "execution_count": 2,
     "metadata": {},
     "output_type": "execute_result"
    }
   ],
   "source": [
    "url = 'https://raw.githubusercontent.com/umaimehm/Intro_to_AI_2021/main/assignment1/Ruter_data.csv'\n",
    "df = pd.read_csv(url, sep=';')\n",
    "df"
   ]
  },
  {
   "cell_type": "markdown",
   "id": "76b05a6d",
   "metadata": {},
   "source": [
    "The first column that stands out is 'Fylke' we suspect that 'Fylke' is either 'Oslo' or 'Viken'. We check this with"
   ]
  },
  {
   "cell_type": "code",
   "execution_count": 3,
   "id": "ac47be4f",
   "metadata": {},
   "outputs": [
    {
     "data": {
      "text/plain": [
       "Viken    4462\n",
       "Oslo     1538\n",
       "Name: Fylke, dtype: int64"
      ]
     },
     "execution_count": 3,
     "metadata": {},
     "output_type": "execute_result"
    }
   ],
   "source": [
    "df['Fylke'].value_counts()"
   ]
  },
  {
   "cell_type": "markdown",
   "id": "7a1f3e71",
   "metadata": {},
   "source": [
    "As suspected 'Fylke' is either 'Oslo' or 'Viken'. Hence we can create a new column called 'I_Oslo'"
   ]
  },
  {
   "cell_type": "code",
   "execution_count": 4,
   "id": "99d23301",
   "metadata": {},
   "outputs": [
    {
     "data": {
      "text/plain": [
       "0       False\n",
       "1       False\n",
       "2       False\n",
       "3       False\n",
       "4       False\n",
       "        ...  \n",
       "5995    False\n",
       "5996    False\n",
       "5997     True\n",
       "5998     True\n",
       "5999    False\n",
       "Name: I_Oslo, Length: 6000, dtype: bool"
      ]
     },
     "execution_count": 4,
     "metadata": {},
     "output_type": "execute_result"
    }
   ],
   "source": [
    "df['I_Oslo'] = df['Fylke'] == 'Oslo'\n",
    "df['I_Oslo']"
   ]
  },
  {
   "cell_type": "markdown",
   "id": "a637bc02",
   "metadata": {},
   "source": [
    "Furthermore, we can also identify the how delayed the bus is arriving the station. We will add this as a new feature."
   ]
  },
  {
   "cell_type": "code",
   "execution_count": 5,
   "id": "002c8d4c",
   "metadata": {},
   "outputs": [
    {
     "data": {
      "text/plain": [
       "0        0 days 00:00:53\n",
       "1        0 days 00:00:20\n",
       "2      -1 days +23:59:56\n",
       "3        0 days 00:01:04\n",
       "4        0 days 00:01:13\n",
       "              ...       \n",
       "5995     0 days 00:13:18\n",
       "5996     0 days 00:01:32\n",
       "5997     0 days 00:10:43\n",
       "5998     0 days 00:01:11\n",
       "5999     0 days 00:02:44\n",
       "Name: Forsinket_Ankomst, Length: 6000, dtype: timedelta64[ns]"
      ]
     },
     "execution_count": 5,
     "metadata": {},
     "output_type": "execute_result"
    }
   ],
   "source": [
    "tid_faktisk_ankomst = pd.to_datetime(df['Tidspunkt_Faktisk_Ankomst_Holdeplass_Fra'], errors='coerce')\n",
    "tid_planlagt_ankomst = pd.to_datetime(df['Tidspunkt_Planlagt_Ankomst_Holdeplass_Fra'], errors='coerce')\n",
    "df['Forsinket_Ankomst'] = tid_faktisk_ankomst - tid_planlagt_ankomst\n",
    "df['Forsinket_Ankomst']"
   ]
  },
  {
   "cell_type": "markdown",
   "id": "19bb50f5",
   "metadata": {},
   "source": [
    "It is also natural to take the delay on departure as a feature also"
   ]
  },
  {
   "cell_type": "code",
   "execution_count": 6,
   "id": "a731c34e",
   "metadata": {},
   "outputs": [
    {
     "data": {
      "text/plain": [
       "0      0 days 00:00:59\n",
       "1      0 days 00:00:26\n",
       "2      0 days 00:00:21\n",
       "3      0 days 00:01:26\n",
       "4      0 days 00:01:53\n",
       "             ...      \n",
       "5995   0 days 00:13:48\n",
       "5996   0 days 00:01:40\n",
       "5997   0 days 00:11:10\n",
       "5998   0 days 00:01:23\n",
       "5999   0 days 00:02:48\n",
       "Name: Forsinket_Avgang, Length: 6000, dtype: timedelta64[ns]"
      ]
     },
     "execution_count": 6,
     "metadata": {},
     "output_type": "execute_result"
    }
   ],
   "source": [
    "tid_faktisk_avgang = pd.to_datetime(df['Tidspunkt_Faktisk_Avgang_Holdeplass_Fra'], errors='coerce')\n",
    "tid_planlagt_avgang = pd.to_datetime(df['Tidspunkt_Planlagt_Avgang_Holdeplass_Fra'], errors='coerce')\n",
    "df['Forsinket_Avgang'] = tid_faktisk_avgang - tid_planlagt_avgang\n",
    "df['Forsinket_Avgang']"
   ]
  },
  {
   "cell_type": "markdown",
   "id": "e19549ca",
   "metadata": {},
   "source": [
    "The next feature we have taken into consideration is the bus capacity. We have chosen to indicate how many seats are left on a particular bus in percentage due to the different bus sizes."
   ]
  },
  {
   "cell_type": "code",
   "execution_count": 7,
   "id": "4830188d",
   "metadata": {},
   "outputs": [
    {
     "data": {
      "text/plain": [
       "0       0.955357\n",
       "1       0.955357\n",
       "2       0.946429\n",
       "3       0.910714\n",
       "4       0.910714\n",
       "          ...   \n",
       "5995    0.986755\n",
       "5996    0.986755\n",
       "5997    0.971698\n",
       "5998    0.966887\n",
       "5999    1.047619\n",
       "Name: Prosent_Ledige_Plasser, Length: 6000, dtype: float64"
      ]
     },
     "execution_count": 7,
     "metadata": {},
     "output_type": "execute_result"
    }
   ],
   "source": [
    "df['Prosent_Ledige_Plasser'] = (df['Kjøretøy_Kapasitet'] - df['Passasjerer_Ombord'])/df['Kjøretøy_Kapasitet']\n",
    "df['Prosent_Ledige_Plasser']"
   ]
  },
  {
   "cell_type": "markdown",
   "id": "3a24eddc",
   "metadata": {},
   "source": [
    "In the end we chose to categorize the bus sizes by category."
   ]
  },
  {
   "cell_type": "code",
   "execution_count": 8,
   "id": "14b2b152",
   "metadata": {},
   "outputs": [
    {
     "data": {
      "text/plain": [
       "0       1\n",
       "1       1\n",
       "2       1\n",
       "3       1\n",
       "4       1\n",
       "       ..\n",
       "5995    2\n",
       "5996    2\n",
       "5997    1\n",
       "5998    2\n",
       "5999    0\n",
       "Name: Buss_Kategori, Length: 6000, dtype: int64"
      ]
     },
     "execution_count": 8,
     "metadata": {},
     "output_type": "execute_result"
    }
   ],
   "source": [
    "df['Buss_Kategori'] = pd.qcut(df['Kjøretøy_Kapasitet'], q=3, labels=False)\n",
    "df['Buss_Kategori']"
   ]
  },
  {
   "cell_type": "markdown",
   "id": "266ff048",
   "metadata": {},
   "source": [
    "We will check our data at this point for non-values and try to identify them"
   ]
  },
  {
   "cell_type": "code",
   "execution_count": 9,
   "id": "30e0726c",
   "metadata": {},
   "outputs": [
    {
     "data": {
      "text/plain": [
       "TurId                                          0\n",
       "Dato                                           0\n",
       "Fylke                                          0\n",
       "Område                                         0\n",
       "Kommune                                        0\n",
       "Holdeplass_Fra                                 0\n",
       "Holdeplass_Til                                 0\n",
       "Linjetype                                      0\n",
       "Linjefylke                                     0\n",
       "Linjenavn                                      0\n",
       "Linjeretning                                   0\n",
       "Tidspunkt_Faktisk_Ankomst_Holdeplass_Fra       0\n",
       "Tidspunkt_Faktisk_Avgang_Holdeplass_Fra        0\n",
       "Tidspunkt_Planlagt_Ankomst_Holdeplass_Fra      0\n",
       "Tidspunkt_Planlagt_Avgang_Holdeplass_Fra       0\n",
       "Kjøretøy_Kapasitet                             0\n",
       "Passasjerer_Ombord                             0\n",
       "I_Oslo                                         0\n",
       "Forsinket_Ankomst                            225\n",
       "Forsinket_Avgang                             177\n",
       "Prosent_Ledige_Plasser                         0\n",
       "Buss_Kategori                                  0\n",
       "dtype: int64"
      ]
     },
     "execution_count": 9,
     "metadata": {},
     "output_type": "execute_result"
    }
   ],
   "source": [
    "df.isna().sum()"
   ]
  },
  {
   "cell_type": "markdown",
   "id": "e7e1015f",
   "metadata": {},
   "source": [
    "As we can see there are quite a number of NA values in two of our features. We need to identify why this is happening. If any issues were to occur, the issue should have been during the calculations of the delay time using 'Tidspunkt_Faktisk_Ankomst_Holdeplass_Fra'. We suspect that the datetime conversion were throwing an error. Hence, we would try to convert each and every time in the data frame and print all the error value to identify the issue."
   ]
  },
  {
   "cell_type": "code",
   "execution_count": 10,
   "id": "e0156da5",
   "metadata": {},
   "outputs": [
    {
     "name": "stdout",
     "output_type": "stream",
     "text": [
      "12 24:48:41\n",
      "43 25:45:48\n",
      "74 24:27:26\n",
      "84 24:43:16\n",
      "199 25:00:38\n",
      "201 25:06:17\n",
      "245 :\n",
      "272 24:10:35\n",
      "305 24:07:00\n",
      "324 25:07:09\n",
      "333 :\n",
      "346 :\n",
      "435 24:28:31\n",
      "477 24:13:28\n",
      "500 24:51:27\n",
      "511 :\n",
      "537 24:04:25\n",
      "579 24:55:31\n",
      "588 :\n",
      "602 :\n",
      "625 24:07:07\n",
      "637 :\n",
      "642 24:07:23\n",
      "653 :\n",
      "676 24:20:36\n",
      "716 24:21:46\n",
      "740 24:43:21\n",
      "785 25:03:56\n",
      "806 :\n",
      "815 :\n",
      "836 :\n",
      "837 24:14:49\n",
      "899 25:38:13\n",
      "912 24:33:13\n",
      "938 24:30:49\n",
      "948 :\n",
      "952 24:34:08\n",
      "978 24:06:25\n",
      "980 24:05:56\n",
      "990 24:05:43\n",
      "1018 :\n",
      "1070 24:11:46\n",
      "1132 24:26:03\n",
      "1211 24:40:12\n",
      "1250 24:15:22\n",
      "1273 :\n",
      "1296 25:00:22\n",
      "1326 :\n",
      "1334 25:43:17\n",
      "1336 24:04:48\n",
      "1359 24:35:07\n",
      "1398 24:50:59\n",
      "1418 25:05:42\n",
      "1452 :\n",
      "1465 24:48:27\n",
      "1483 25:22:58\n",
      "1499 :\n",
      "1517 24:43:45\n",
      "1548 24:58:18\n",
      "1578 :\n",
      "1595 24:45:46\n",
      "1598 24:47:09\n",
      "1615 25:05:46\n",
      "1622 25:04:39\n",
      "1626 24:15:52\n",
      "1646 24:45:13\n",
      "1658 :\n",
      "1662 24:22:10\n",
      "1664 25:15:12\n",
      "1746 24:10:34\n",
      "1758 25:22:56\n",
      "1786 24:42:06\n",
      "1814 :\n",
      "1875 24:41:58\n",
      "1893 24:17:48\n",
      "1932 25:02:54\n",
      "1950 25:03:46\n",
      "1952 24:41:28\n",
      "1957 25:25:02\n",
      "1963 :\n",
      "1975 :\n",
      "2006 25:15:25\n",
      "2012 24:40:57\n",
      "2027 24:10:23\n",
      "2053 24:45:06\n",
      "2066 24:39:22\n",
      "2095 25:17:30\n",
      "2131 24:05:32\n",
      "2143 :\n",
      "2219 24:16:26\n",
      "2271 24:11:03\n",
      "2307 24:16:58\n",
      "2493 24:31:04\n",
      "2502 24:09:31\n",
      "2551 24:41:36\n",
      "2583 25:46:11\n",
      "2588 24:36:32\n",
      "2651 24:25:41\n",
      "2696 24:13:02\n",
      "2755 24:10:38\n",
      "2857 24:49:06\n",
      "2868 25:21:53\n",
      "2902 25:08:12\n",
      "2924 :\n",
      "2975 25:30:47\n",
      "2993 24:21:03\n",
      "3005 24:28:19\n",
      "3008 24:00:46\n",
      "3015 25:08:28\n",
      "3045 :\n",
      "3084 24:41:13\n",
      "3090 25:03:54\n",
      "3111 24:58:46\n",
      "3138 25:15:59\n",
      "3142 :\n",
      "3191 :\n",
      "3209 :\n",
      "3216 :\n",
      "3231 25:06:17\n",
      "3237 24:15:06\n",
      "3257 25:22:59\n",
      "3259 24:05:56\n",
      "3264 25:19:45\n",
      "3284 :\n",
      "3294 24:09:08\n",
      "3336 24:43:58\n",
      "3343 25:02:09\n",
      "3353 25:04:43\n",
      "3363 24:19:25\n",
      "3369 24:16:03\n",
      "3395 24:57:01\n",
      "3425 24:41:33\n",
      "3523 :\n",
      "3555 25:13:34\n",
      "3578 24:33:34\n",
      "3581 24:37:42\n",
      "3615 :\n",
      "3650 24:10:56\n",
      "3690 24:01:15\n",
      "3714 24:49:00\n",
      "3716 24:18:46\n",
      "3724 24:27:49\n",
      "3729 24:12:33\n",
      "3733 24:08:45\n",
      "3760 24:27:16\n",
      "3775 25:16:19\n",
      "3784 24:03:41\n",
      "3791 24:03:59\n",
      "3794 24:33:52\n",
      "3807 25:37:44\n",
      "3821 25:15:46\n",
      "3849 24:56:46\n",
      "3863 :\n",
      "3879 25:48:15\n",
      "3888 24:50:43\n",
      "4000 25:12:54\n",
      "4032 25:20:45\n",
      "4055 24:32:39\n",
      "4063 24:02:49\n",
      "4096 24:03:01\n",
      "4109 24:55:35\n",
      "4167 24:34:10\n",
      "4200 24:21:07\n",
      "4206 :\n",
      "4291 :\n",
      "4295 24:02:58\n",
      "4320 :\n",
      "4417 24:17:57\n",
      "4479 :\n",
      "4500 :\n",
      "4536 24:14:37\n",
      "4549 25:07:07\n",
      "4561 25:23:04\n",
      "4628 24:03:43\n",
      "4635 24:45:10\n",
      "4674 24:37:13\n",
      "4722 24:39:17\n",
      "4724 24:18:25\n",
      "4750 24:25:39\n",
      "4763 :\n",
      "4777 24:27:14\n",
      "4799 25:00:35\n",
      "4909 24:35:40\n",
      "4916 :\n",
      "4917 24:18:01\n",
      "4946 :\n",
      "4947 :\n",
      "5060 24:56:13\n",
      "5070 24:35:21\n",
      "5079 :\n",
      "5109 :\n",
      "5124 25:25:49\n",
      "5136 :\n",
      "5146 24:53:01\n",
      "5152 :\n",
      "5161 24:26:25\n",
      "5183 25:02:05\n",
      "5198 24:33:38\n",
      "5211 :\n",
      "5283 25:27:36\n",
      "5303 24:13:38\n",
      "5313 24:24:29\n",
      "5352 25:29:59\n",
      "5433 :\n",
      "5505 24:43:47\n",
      "5510 24:08:14\n",
      "5527 25:20:20\n",
      "5601 24:48:35\n",
      "5625 :\n",
      "5662 24:43:01\n",
      "5672 24:30:13\n",
      "5673 24:32:36\n",
      "5678 24:45:08\n",
      "5688 25:22:43\n",
      "5769 24:13:33\n",
      "5798 25:21:15\n",
      "5804 24:29:20\n",
      "5824 24:00:07\n",
      "5864 24:16:42\n",
      "5869 24:34:39\n",
      "5886 24:33:51\n",
      "5888 24:22:13\n",
      "5922 :\n",
      "5930 25:07:50\n"
     ]
    }
   ],
   "source": [
    "for index, rows in df.iterrows():\n",
    "    try:\n",
    "        dt.datetime.strptime(df.loc[index, 'Tidspunkt_Faktisk_Ankomst_Holdeplass_Fra'], '%H:%M:%S')\n",
    "    except ValueError:\n",
    "        print(index, df.loc[index, 'Tidspunkt_Faktisk_Ankomst_Holdeplass_Fra'])"
   ]
  },
  {
   "cell_type": "markdown",
   "id": "ea99b09e",
   "metadata": {},
   "source": [
    "As we suspected all these times were time given over 24 hours. Some were even ':'. We shall first pay attention to all the ':' datapoints. From the original dataframe we identify that 'Tidspunkt_Planlagt_Ankomst_Holdeplass_Fra' is the same as 'Tidspunkt_Planlagt_Avgang_Holdeplass_Fra'. We shall then just assume that 'Tidspunkt_Faktisk_Ankomst_Holdeplass_Fra' = 'Tidspunkt_Faktisk_Avgang_Holdeplass_Fra' in the cases of ':' as well. Hence, we shall replace all thise values:"
   ]
  },
  {
   "cell_type": "code",
   "execution_count": 11,
   "id": "f558783e",
   "metadata": {},
   "outputs": [
    {
     "name": "stdout",
     "output_type": "stream",
     "text": [
      "245 01:22:34\n",
      "333 17:40:55\n",
      "346 13:57:17\n",
      "511 07:51:46\n",
      "588 06:55:18\n",
      "602 06:18:59\n",
      "637 19:45:27\n",
      "653 14:13:58\n",
      "806 17:54:06\n",
      "815 13:42:56\n",
      "836 09:57:33\n",
      "948 19:40:31\n",
      "1018 09:11:09\n",
      "1273 19:05:06\n",
      "1326 15:45:13\n",
      "1452 10:41:41\n",
      "1499 11:50:02\n",
      "1578 15:25:35\n",
      "1658 14:06:15\n",
      "1814 06:40:23\n",
      "1963 16:05:01\n",
      "1975 08:58:50\n",
      "2143 23:21:25\n",
      "2924 12:29:23\n",
      "3045 16:25:28\n",
      "3142 17:08:02\n",
      "3191 14:19:58\n",
      "3209 18:07:41\n",
      "3216 25:13:22\n",
      "3284 12:20:38\n",
      "3523 07:45:02\n",
      "3615 15:19:07\n",
      "3863 15:44:34\n",
      "4206 10:54:21\n",
      "4291 06:11:17\n",
      "4320 09:14:55\n",
      "4479 13:40:24\n",
      "4500 14:41:07\n",
      "4763 08:20:42\n",
      "4916 10:09:45\n",
      "4946 23:06:23\n",
      "4947 17:27:43\n",
      "5079 13:32:09\n",
      "5109 09:29:56\n",
      "5136 13:08:26\n",
      "5152 12:43:49\n",
      "5211 15:47:44\n",
      "5433 01:33:58\n",
      "5625 07:41:42\n",
      "5922 12:34:21\n"
     ]
    }
   ],
   "source": [
    "for index, row in df.iterrows():\n",
    "    if df.loc[index, 'Tidspunkt_Faktisk_Ankomst_Holdeplass_Fra'] == ':':\n",
    "        df.loc[index, 'Tidspunkt_Faktisk_Ankomst_Holdeplass_Fra'] = df.loc[index, 'Tidspunkt_Faktisk_Avgang_Holdeplass_Fra']\n",
    "        print(index, df.loc[index, 'Tidspunkt_Faktisk_Ankomst_Holdeplass_Fra'])"
   ]
  },
  {
   "cell_type": "markdown",
   "id": "1eb07ffe",
   "metadata": {},
   "source": [
    "As, we can see we have successfully replaced all the ':' values. Furthermore, we loop through again and replace all 24 with 00 and 25 with 01. For this we will need the re library:"
   ]
  },
  {
   "cell_type": "code",
   "execution_count": 12,
   "id": "28de1db9",
   "metadata": {},
   "outputs": [
    {
     "name": "stdout",
     "output_type": "stream",
     "text": [
      "12 00:48:41\n",
      "43 01:45:48\n",
      "74 00:27:26\n",
      "84 00:43:16\n",
      "199 01:00:38\n",
      "201 01:06:17\n",
      "272 00:10:35\n",
      "305 00:07:00\n",
      "324 01:07:09\n",
      "435 00:28:31\n",
      "477 00:13:28\n",
      "500 00:51:27\n",
      "537 00:04:25\n",
      "579 00:55:31\n",
      "625 00:07:07\n",
      "642 00:07:23\n",
      "676 00:20:36\n",
      "716 00:21:46\n",
      "740 00:43:21\n",
      "785 01:03:56\n",
      "837 00:14:49\n",
      "899 01:38:13\n",
      "912 00:33:13\n",
      "938 00:30:49\n",
      "952 00:34:08\n",
      "978 00:06:25\n",
      "980 00:05:56\n",
      "990 00:05:43\n",
      "1070 00:11:46\n",
      "1132 00:26:03\n",
      "1211 00:40:12\n",
      "1250 00:15:22\n",
      "1296 01:00:22\n",
      "1334 01:43:17\n",
      "1336 00:04:48\n",
      "1359 00:35:07\n",
      "1398 00:50:59\n",
      "1418 01:05:42\n",
      "1465 00:48:27\n",
      "1483 01:22:58\n",
      "1517 00:43:45\n",
      "1548 00:58:18\n",
      "1595 00:45:46\n",
      "1598 00:47:09\n",
      "1615 01:05:46\n",
      "1622 01:04:39\n",
      "1626 00:15:52\n",
      "1646 00:45:13\n",
      "1662 00:22:10\n",
      "1664 01:15:12\n",
      "1746 00:10:34\n",
      "1758 01:22:56\n",
      "1786 00:42:06\n",
      "1875 00:41:58\n",
      "1893 00:17:48\n",
      "1932 01:02:54\n",
      "1950 01:03:46\n",
      "1952 00:41:28\n",
      "1957 01:25:02\n",
      "2006 01:15:25\n",
      "2012 00:40:57\n",
      "2027 00:10:23\n",
      "2053 00:45:06\n",
      "2066 00:39:22\n",
      "2095 01:17:30\n",
      "2131 00:05:32\n",
      "2219 00:16:26\n",
      "2271 00:11:03\n",
      "2307 00:16:58\n",
      "2493 00:31:04\n",
      "2502 00:09:31\n",
      "2551 00:41:36\n",
      "2583 01:46:11\n",
      "2588 00:36:32\n",
      "2651 00:25:41\n",
      "2696 00:13:02\n",
      "2755 00:10:38\n",
      "2857 00:49:06\n",
      "2868 01:21:53\n",
      "2902 01:08:12\n",
      "2975 01:30:47\n",
      "2993 00:21:03\n",
      "3005 00:28:19\n",
      "3008 00:00:46\n",
      "3015 01:08:28\n",
      "3084 00:41:13\n",
      "3090 01:03:54\n",
      "3111 00:58:46\n",
      "3138 01:15:59\n",
      "3216 01:13:22\n",
      "3231 01:06:17\n",
      "3237 00:15:06\n",
      "3257 01:22:59\n",
      "3259 00:05:56\n",
      "3264 01:19:45\n",
      "3294 00:09:08\n",
      "3336 00:43:58\n",
      "3343 01:02:09\n",
      "3353 01:04:43\n",
      "3363 00:19:25\n",
      "3369 00:16:03\n",
      "3395 00:57:01\n",
      "3425 00:41:33\n",
      "3555 01:13:34\n",
      "3578 00:33:34\n",
      "3581 00:37:42\n",
      "3650 00:10:56\n",
      "3690 00:01:15\n",
      "3714 00:49:00\n",
      "3716 00:18:46\n",
      "3724 00:27:49\n",
      "3729 00:12:33\n",
      "3733 00:08:45\n",
      "3760 00:27:16\n",
      "3775 01:16:19\n",
      "3784 00:03:41\n",
      "3791 00:03:59\n",
      "3794 00:33:52\n",
      "3807 01:37:44\n",
      "3821 01:15:46\n",
      "3849 00:56:46\n",
      "3879 01:48:15\n",
      "3888 00:50:43\n",
      "4000 01:12:54\n",
      "4032 01:20:45\n",
      "4055 00:32:39\n",
      "4063 00:02:49\n",
      "4096 00:03:01\n",
      "4109 00:55:35\n",
      "4167 00:34:10\n",
      "4200 00:21:07\n",
      "4295 00:02:58\n",
      "4417 00:17:57\n",
      "4536 00:14:37\n",
      "4549 01:07:07\n",
      "4561 01:23:04\n",
      "4628 00:03:43\n",
      "4635 00:45:10\n",
      "4674 00:37:13\n",
      "4722 00:39:17\n",
      "4724 00:18:25\n",
      "4750 00:25:39\n",
      "4777 00:27:14\n",
      "4799 01:00:35\n",
      "4909 00:35:40\n",
      "4917 00:18:01\n",
      "5060 00:56:13\n",
      "5070 00:35:21\n",
      "5124 01:25:49\n",
      "5146 00:53:01\n",
      "5161 00:26:25\n",
      "5183 01:02:05\n",
      "5198 00:33:38\n",
      "5283 01:27:36\n",
      "5303 00:13:38\n",
      "5313 00:24:29\n",
      "5352 01:29:59\n",
      "5505 00:43:47\n",
      "5510 00:08:14\n",
      "5527 01:20:20\n",
      "5601 00:48:35\n",
      "5662 00:43:01\n",
      "5672 00:30:13\n",
      "5673 00:32:36\n",
      "5678 00:45:08\n",
      "5688 01:22:43\n",
      "5769 00:13:33\n",
      "5798 01:21:15\n",
      "5804 00:29:20\n",
      "5824 00:00:07\n",
      "5864 00:16:42\n",
      "5869 00:34:39\n",
      "5886 00:33:51\n",
      "5888 00:22:13\n",
      "5930 01:07:50\n"
     ]
    }
   ],
   "source": [
    "import re\n",
    "\n",
    "for index, rows in df.iterrows():\n",
    "    try:\n",
    "        dt.datetime.strptime(df.loc[index, 'Tidspunkt_Faktisk_Ankomst_Holdeplass_Fra'], '%H:%M:%S')\n",
    "    except ValueError:\n",
    "        h = re.search(r'(24+)|(25+)', df.loc[index, 'Tidspunkt_Faktisk_Ankomst_Holdeplass_Fra']).group(0)\n",
    "        s = '0' + str(int(h)-24)\n",
    "        df.loc[index, 'Tidspunkt_Faktisk_Ankomst_Holdeplass_Fra'] = s + df.loc[index, 'Tidspunkt_Faktisk_Ankomst_Holdeplass_Fra'][2:]\n",
    "        print(index, df.loc[index, 'Tidspunkt_Faktisk_Ankomst_Holdeplass_Fra'])"
   ]
  },
  {
   "cell_type": "markdown",
   "id": "9fbf114c",
   "metadata": {},
   "source": [
    "We should the same with\n",
    "- 'Tidspunkt_Faktisk_Avgang_Holdeplass_Fra'\n",
    "- 'Tidspunkt_Planlagt_Ankomst_Holdeplass_Fra'\n",
    "- 'Tidspunkt_Planlagt_Avgang_Holdeplass_Fra'\n",
    "as well. We should do this with functions instead as it will become a tedious task."
   ]
  },
  {
   "cell_type": "code",
   "execution_count": 13,
   "id": "b85e955f",
   "metadata": {},
   "outputs": [],
   "source": [
    "def fix_nat(column1, column2):\n",
    "    for index, rows in df.iterrows():\n",
    "        if df.loc[index, column1] == ':':\n",
    "            df.loc[index, column1] = df.loc[index, column2]\n",
    "        try:\n",
    "            dt.datetime.strptime(df.loc[index, column1], '%H:%M:%S')\n",
    "        except ValueError:\n",
    "            h = re.search(r'(24+)|(25+)', df.loc[index, column1]).group(0)\n",
    "            s = '0' + str(int(h)-24)\n",
    "            df.loc[index, column1] = s + df.loc[index, column1][2:]"
   ]
  },
  {
   "cell_type": "markdown",
   "id": "a9927a24",
   "metadata": {},
   "source": [
    "We know just have to apply our function to the appropriate columns:"
   ]
  },
  {
   "cell_type": "code",
   "execution_count": 14,
   "id": "881d9aeb",
   "metadata": {},
   "outputs": [],
   "source": [
    "fix_nat('Tidspunkt_Faktisk_Avgang_Holdeplass_Fra', 'Tidspunkt_Faktisk_Ankomst_Holdeplass_Fra')\n",
    "fix_nat('Tidspunkt_Planlagt_Ankomst_Holdeplass_Fra', 'Tidspunkt_Planlagt_Avgang_Holdeplass_Fra')\n",
    "fix_nat('Tidspunkt_Planlagt_Avgang_Holdeplass_Fra', 'Tidspunkt_Planlagt_Ankomst_Holdeplass_Fra')"
   ]
  },
  {
   "cell_type": "markdown",
   "id": "90eb9343",
   "metadata": {},
   "source": [
    "After fixing all the times we can now create the columns 'Forsinket_Ankomst' and 'Forsinket_Avgang' again"
   ]
  },
  {
   "cell_type": "code",
   "execution_count": 15,
   "id": "f4a674d5",
   "metadata": {},
   "outputs": [],
   "source": [
    "tid_faktisk_ankomst = pd.to_datetime(df['Tidspunkt_Faktisk_Ankomst_Holdeplass_Fra'])\n",
    "tid_planlagt_ankomst = pd.to_datetime(df['Tidspunkt_Planlagt_Ankomst_Holdeplass_Fra'])\n",
    "df['Forsinket_Ankomst'] = tid_faktisk_ankomst - tid_planlagt_ankomst\n",
    "\n",
    "tid_faktisk_avgang = pd.to_datetime(df['Tidspunkt_Faktisk_Avgang_Holdeplass_Fra'])\n",
    "tid_planlagt_avgang = pd.to_datetime(df['Tidspunkt_Planlagt_Avgang_Holdeplass_Fra'])\n",
    "df['Forsinket_Avgang'] = tid_faktisk_avgang - tid_planlagt_avgang"
   ]
  },
  {
   "cell_type": "markdown",
   "id": "9a4cf806",
   "metadata": {},
   "source": [
    "Now we need to fix the values in 'Prosent_Ledige_Plasser', because we can't have a capacity og over 100%"
   ]
  },
  {
   "cell_type": "code",
   "execution_count": 16,
   "id": "8ba4d707",
   "metadata": {},
   "outputs": [
    {
     "data": {
      "text/plain": [
       "0       0.955357\n",
       "1       0.955357\n",
       "2       0.946429\n",
       "3       0.910714\n",
       "4       0.910714\n",
       "          ...   \n",
       "5995    0.986755\n",
       "5996    0.986755\n",
       "5997    0.971698\n",
       "5998    0.966887\n",
       "5999    1.000000\n",
       "Name: Prosent_Ledige_Plasser, Length: 6000, dtype: float64"
      ]
     },
     "execution_count": 16,
     "metadata": {},
     "output_type": "execute_result"
    }
   ],
   "source": [
    "for index, row in df.iterrows():\n",
    "    if df.loc[index, 'Prosent_Ledige_Plasser'] > 1.0:\n",
    "        df.loc[index, 'Prosent_Ledige_Plasser'] = 1.0\n",
    "    elif df.loc[index, 'Prosent_Ledige_Plasser'] < 0.0:\n",
    "        df.loc[index, 'Prosent_Ledige_Plasser'] = 0.0\n",
    "\n",
    "df['Prosent_Ledige_Plasser']"
   ]
  },
  {
   "cell_type": "markdown",
   "id": "f601cae6",
   "metadata": {},
   "source": [
    "To visualize the new \"prosent_Ledige_Plasser\" feature we need to split the values into groups"
   ]
  },
  {
   "cell_type": "code",
   "execution_count": 17,
   "id": "4facd8cf",
   "metadata": {},
   "outputs": [
    {
     "data": {
      "text/plain": [
       "<AxesSubplot:xlabel='kapasitet_kat'>"
      ]
     },
     "execution_count": 17,
     "metadata": {},
     "output_type": "execute_result"
    },
    {
     "data": {
      "image/png": "[encoded data removed]",
      "text/plain": [
       "<Figure size 432x288 with 1 Axes>"
      ]
     },
     "metadata": {
      "needs_background": "light"
     },
     "output_type": "display_data"
    }
   ],
   "source": [
    "conditions = [\n",
    "    (df['Prosent_Ledige_Plasser'] > 0.90) & (df['Prosent_Ledige_Plasser'] <= 1.0),\n",
    "    (df['Prosent_Ledige_Plasser'] > 0.30) & (df['Prosent_Ledige_Plasser'] <= 0.90),\n",
    "    (df['Prosent_Ledige_Plasser'] <= 0.30)\n",
    "]\n",
    "\n",
    "kapasitets_kategorier = [\"Masse plass\", \"Middels plass\", \"Folksomt\"]\n",
    "\n",
    "df[\"kapasitet_kat\"] = np.select(conditions, kapasitets_kategorier)\n",
    "\n",
    "\n",
    "\n",
    "\n",
    "df_kapasitetsCount = df.groupby('kapasitet_kat').count()\n",
    "df_kapasitetsCount[\"Prosent_Ledige_Plasser\"].plot.bar()"
   ]
  },
  {
   "cell_type": "markdown",
   "id": "3afa015b",
   "metadata": {},
   "source": [
    "Now we need to visualize the other values"
   ]
  },
  {
   "cell_type": "code",
   "execution_count": 18,
   "id": "1f2e29c6",
   "metadata": {},
   "outputs": [
    {
     "data": {
      "text/plain": [
       "<AxesSubplot:xlabel='Buss_Kategori'>"
      ]
     },
     "execution_count": 18,
     "metadata": {},
     "output_type": "execute_result"
    },
    {
     "data": {
      "image/png": "[encoded data removed]",
      "text/plain": [
       "<Figure size 432x288 with 1 Axes>"
      ]
     },
     "metadata": {
      "needs_background": "light"
     },
     "output_type": "display_data"
    }
   ],
   "source": [
    "df_bussKat_Count = df.groupby('Buss_Kategori').count()\n",
    "df_bussKat_Count['Kjøretøy_Kapasitet'].plot.bar()"
   ]
  },
  {
   "cell_type": "code",
   "execution_count": 19,
   "id": "3cb07d49",
   "metadata": {
    "scrolled": true
   },
   "outputs": [
    {
     "data": {
      "text/plain": [
       "<AxesSubplot:xlabel='I_Oslo'>"
      ]
     },
     "execution_count": 19,
     "metadata": {},
     "output_type": "execute_result"
    },
    {
     "data": {
      "image/png": "[encoded data removed]",
      "text/plain": [
       "<Figure size 432x288 with 1 Axes>"
      ]
     },
     "metadata": {
      "needs_background": "light"
     },
     "output_type": "display_data"
    }
   ],
   "source": [
    "df_I_Oslo_Count = df.groupby('I_Oslo').count()\n",
    "df_I_Oslo_Count['Fylke'].plot.bar()"
   ]
  },
  {
   "cell_type": "markdown",
   "id": "b00679a1",
   "metadata": {},
   "source": [
    "We also need to group this feature to be able to visualize it"
   ]
  },
  {
   "cell_type": "code",
   "execution_count": 20,
   "id": "d5df6407",
   "metadata": {
    "scrolled": true
   },
   "outputs": [
    {
     "data": {
      "text/plain": [
       "<AxesSubplot:xlabel='forsinket_kat'>"
      ]
     },
     "execution_count": 20,
     "metadata": {},
     "output_type": "execute_result"
    },
    {
     "data": {
      "image/png": "[encoded data removed]",
      "text/plain": [
       "<Figure size 432x288 with 1 Axes>"
      ]
     },
     "metadata": {
      "needs_background": "light"
     },
     "output_type": "display_data"
    }
   ],
   "source": [
    "conditions = [\n",
    "    (df['Forsinket_Ankomst'] < -dt.timedelta(minutes=1)),\n",
    "    (df['Forsinket_Ankomst'] >= -dt.timedelta(minutes=1)) & (df['Forsinket_Ankomst'] < dt.timedelta(minutes=2)),\n",
    "    (df['Forsinket_Ankomst'] >= dt.timedelta(minutes=2)) & (df['Forsinket_Ankomst'] < dt.timedelta(minutes=9)),\n",
    "    (df['Forsinket_Ankomst'] >= dt.timedelta(minutes=9))\n",
    "]\n",
    "\n",
    "forsinket_kategorier = ['Tidlig', 'På tid', 'Forsinket', 'Veldig forsinket']\n",
    "\n",
    "df['forsinket_kat'] = np.select(conditions, forsinket_kategorier)\n",
    "df_forsinketCount = df.groupby('forsinket_kat').count()\n",
    "df_forsinketCount['Forsinket_Ankomst'].plot.bar()"
   ]
  },
  {
   "cell_type": "code",
   "execution_count": 21,
   "id": "e407195e",
   "metadata": {
    "scrolled": false
   },
   "outputs": [
    {
     "data": {
      "text/plain": [
       "<AxesSubplot:xlabel='Forsinket_Avgang_Kat'>"
      ]
     },
     "execution_count": 21,
     "metadata": {},
     "output_type": "execute_result"
    },
    {
     "data": {
      "image/png": "[encoded data removed]",
      "text/plain": [
       "<Figure size 432x288 with 1 Axes>"
      ]
     },
     "metadata": {
      "needs_background": "light"
     },
     "output_type": "display_data"
    }
   ],
   "source": [
    "conditions = [\n",
    "    (df['Forsinket_Avgang'] < dt.timedelta(minutes=0)),\n",
    "    (df['Forsinket_Avgang'] >= dt.timedelta(minutes=0)) & (df['Forsinket_Avgang'] < dt.timedelta(minutes=1)),\n",
    "    (df['Forsinket_Avgang'] >= dt.timedelta(minutes=1)) & (df['Forsinket_Avgang'] < dt.timedelta(minutes=2)),\n",
    "    (df['Forsinket_Avgang'] >= dt.timedelta(minutes=2))\n",
    "]\n",
    "\n",
    "avgang_kategorier = ['Tidlig', 'På tid', 'Forsinket', 'Veldig forsinket']\n",
    "\n",
    "df['Forsinket_Avgang_Kat'] = np.select(conditions, avgang_kategorier)\n",
    "df_avgangCount = df.groupby('Forsinket_Avgang_Kat').count()\n",
    "df_avgangCount['Forsinket_Avgang'].plot.bar()"
   ]
  }
 ],
 "metadata": {
  "kernelspec": {
   "display_name": "Python 3 (ipykernel)",
   "language": "python",
   "name": "python3"
  },
  "language_info": {
   "codemirror_mode": {
    "name": "ipython",
    "version": 3
   },
   "file_extension": ".py",
   "mimetype": "text/x-python",
   "name": "python",
   "nbconvert_exporter": "python",
   "pygments_lexer": "ipython3",
   "version": "3.8.11"
  }
 },
 "nbformat": 4,
 "nbformat_minor": 5
}