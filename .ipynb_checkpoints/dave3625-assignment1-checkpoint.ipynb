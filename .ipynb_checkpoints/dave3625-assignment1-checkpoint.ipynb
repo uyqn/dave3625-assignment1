{
 "cells": [
  {
   "cell_type": "markdown",
   "id": "6ffa09c2",
   "metadata": {},
   "source": [
    "# DAVE3625 Assignment 1\n",
    "## Task 1: Feature Engineering You will be given a data set (from Ruter). Please do the following on this data set:\n",
    "### 1.1 Identify 5 unique features from this data set.\n",
    "\n",
    "First we import pandas to create a dataframe of [Ruter_data.csv](https://raw.githubusercontent.com/umaimehm/Intro_to_AI_2021/main/assignment1/Ruter_data.csv)"
   ]
  },
  {
   "cell_type": "code",
   "execution_count": 9,
   "id": "bdda398c",
   "metadata": {},
   "outputs": [],
   "source": [
    "%matplotlib inline\n",
    "import pandas as pd\n",
    "import matplotlib.pyplot as plt"
   ]
  },
  {
   "cell_type": "code",
   "execution_count": 10,
   "id": "9471a542",
   "metadata": {},
   "outputs": [],
   "source": [
    "plt.show()"
   ]
  },
  {
   "cell_type": "code",
   "execution_count": null,
   "id": "ae9a4df3",
   "metadata": {},
   "outputs": [],
   "source": []
  }
 ],
 "metadata": {
  "kernelspec": {
   "display_name": "Python 3 (ipykernel)",
   "language": "python",
   "name": "python3"
  },
  "language_info": {
   "codemirror_mode": {
    "name": "ipython",
    "version": 3
   },
   "file_extension": ".py",
   "mimetype": "text/x-python",
   "name": "python",
   "nbconvert_exporter": "python",
   "pygments_lexer": "ipython3",
   "version": "3.8.11"
  }
 },
 "nbformat": 4,
 "nbformat_minor": 5
}
